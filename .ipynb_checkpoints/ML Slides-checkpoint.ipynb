{
 "cells": [
  {
   "cell_type": "markdown",
   "metadata": {
    "slideshow": {
     "slide_type": "slide"
    }
   },
   "source": [
    "# Machine Learning Algorithms for Data Science\n",
    "## A Practical Approach\n",
    "\n",
    "#### By Anthony Lorencette, BJ's Membership Analytics Team\n",
    "<img src=\"bjs.png\" width=\"23%\" align=\"right\">"
   ]
  },
  {
   "cell_type": "markdown",
   "metadata": {
    "slideshow": {
     "slide_type": "subslide"
    }
   },
   "source": [
    "   # Relevant ML Learning Algorithms\n",
    "\n",
    "- Supervised Learning Algorithms\n",
    "    - Support Vector Machines\n",
    "    - Linear Regression\n",
    "    - Logistic Regression\n",
    "    - Linear Discriminant Analysis\n",
    "    - Decision Trees and Random Forest\n",
    "    - K-Nearest Neighbors\n",
    "    - Neural Networks\n",
    "- Unsupervised Algorithms\n",
    "    - Collaborative Filtering with Matrix Factorization (MF)"
   ]
  },
  {
   "cell_type": "markdown",
   "metadata": {
    "slideshow": {
     "slide_type": "slide"
    }
   },
   "source": [
    "# Support Vector Machines\n",
    "###  For Classification, Outlier Detection, or Regression\n",
    "\n",
    "- The SVM algorithm finds classes of your data by finding a equidistant margin for all created classes (maximal margin).\n",
    "\n",
    "<img src=\"svm1.png\" width=\"50%\" align=\"left\"> \n",
    "\n",
    "***\n",
    "<br>\n",
    "<br>\n",
    "<br>\n",
    "<br>\n",
    "<br>\n",
    "<br>\n",
    "<br>\n",
    "<br>\n",
    "\n",
    "- The SVM algorithm can also be used for regression: $f(x) = \\langle w,x \\rangle + b \\hspace{1 ex}s.t.\\hspace{1 ex} \\chi,b \\in \\Re$ <img src=\"svm2.png\" width=\"30%\" align=\"right\">\n",
    "\n",
    "    - The linear transformation is found in the image to the right. <br>\n",
    "\n",
    "\n",
    "*look up feasibility gap*\n"
   ]
  },
  {
   "cell_type": "code",
   "execution_count": 29,
   "metadata": {
    "slideshow": {
     "slide_type": "subslide"
    }
   },
   "outputs": [
    {
     "data": {
      "image/png": "[encoded data removed]",
      "text/plain": [
       "<Figure size 432x288 with 1 Axes>"
      ]
     },
     "metadata": {},
     "output_type": "display_data"
    }
   ],
   "source": [
    "#Support vector machines example using python\n",
    "from matplotlib import pyplot as plt\n",
    "from sklearn.datasets.samples_generator import make_blobs\n",
    "from mlxtend.plotting import plot_decision_regions\n",
    "X, y = make_blobs(n_samples=50, centers=2,\n",
    "                  random_state=0, cluster_std=0.60)\n",
    "a = plt.scatter(X[:, 0], X[:, 1], c=y, s=50, cmap='autumn')\n",
    "\n"
   ]
  },
  {
   "cell_type": "code",
   "execution_count": 33,
   "metadata": {
    "slideshow": {
     "slide_type": "subslide"
    }
   },
   "outputs": [
    {
     "data": {
      "image/png": "[encoded data removed]",
      "text/plain": [
       "<Figure size 432x288 with 1 Axes>"
      ]
     },
     "metadata": {},
     "output_type": "display_data"
    }
   ],
   "source": [
    "from sklearn.svm import SVC # \"Support vector classifier\"\n",
    "model = SVC(kernel='linear', C=1E10)\n",
    "model.fit(X, y)\n",
    "plot_decision_regions(X=X, y=y,clf=model, legend=2);\n",
    "plt.xlabel(\"X_Values\", size=14);\n",
    "plt.ylabel(\"Y_Values\", size=14);\n",
    "plt.title('SVM Decision Region Boundary', size=16);"
   ]
  },
  {
   "cell_type": "code",
   "execution_count": 1,
   "metadata": {
    "scrolled": true,
    "slideshow": {
     "slide_type": "skip"
    }
   },
   "outputs": [
    {
     "data": {
      "text/plain": [
       "{'theme': 'linear', 'transition': 'zoom', 'start_slideshow_at': 'selected'}"
      ]
     },
     "execution_count": 1,
     "metadata": {},
     "output_type": "execute_result"
    }
   ],
   "source": [
    "from traitlets.config.manager import BaseJSONConfigManager\n",
    "path = \"C:\\\\Users\\\\adesouza\\\\.jupyter\\\\nbconfig\"\n",
    "cm = BaseJSONConfigManager(config_dir=path)\n",
    "cm.update(\"livereveal\", {\n",
    "              \"theme\": \"linear\",\n",
    "              \"transition\": \"zoom\",\n",
    "              \"start_slideshow_at\": \"selected\",\n",
    "})\n"
   ]
  }
 ],
 "metadata": {
  "celltoolbar": "Slideshow",
  "kernelspec": {
   "display_name": "Python 3",
   "language": "python",
   "name": "python3"
  },
  "language_info": {
   "codemirror_mode": {
    "name": "ipython",
    "version": 3
   },
   "file_extension": ".py",
   "mimetype": "text/x-python",
   "name": "python",
   "nbconvert_exporter": "python",
   "pygments_lexer": "ipython3",
   "version": "3.6.5"
  }
 },
 "nbformat": 4,
 "nbformat_minor": 2
}
